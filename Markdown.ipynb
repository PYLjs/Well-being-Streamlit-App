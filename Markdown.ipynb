{
 "cells": [
  {
   "cell_type": "markdown",
   "metadata": {},
   "source": [
    "\n",
    "<h1 align=center><font size = 5>Markdown Cheatsheet</font></h1>"
   ]
  },
  {
   "cell_type": "markdown",
   "metadata": {},
   "source": [
    "\n",
    "<h2>Table of Contents</h2>\n",
    "<div class=\"alert alert-block alert-info\" style=\"margin-top: 20px\">\n",
    "    <ul>\n",
    "        <li>\n",
    "            <a href=\"#Header\">Header</a>\n",
    "        </li>\n",
    "        <li>\n",
    "            <a href=\"#Emphasis\">Emphasis</a>\n",
    "        </li>\n",
    "        <li>\n",
    "            <a href=\"#Lists\">Lists</a>\n",
    "        </li>\n",
    "        <li>\n",
    "            <a href=\"#Links\">Links</a>\n",
    "        </li>\n",
    "        <li>\n",
    "            <a href=\"#Images\">Images</a>\n",
    "        </li>\n",
    "        <li>\n",
    "            <a href=\"#Code\">Code and Syntax Highlighting</a>\n",
    "        </li>\n",
    "        <li>\n",
    "            <a href=\"#Table\">Table</a>\n",
    "        </li>\n",
    "        <li>\n",
    "            <a href=\"#Rule\">Horizontal Rule</a>\n",
    "        </li>\n",
    "    </ul>\n",
    "   \n",
    "</div>\n",
    "\n",
    "<hr>\n"
   ]
  },
  {
   "cell_type": "markdown",
   "metadata": {},
   "source": [
    "<h2 id=\"Header\">Header</h2>"
   ]
  },
  {
   "cell_type": "code",
   "execution_count": null,
   "metadata": {},
   "outputs": [],
   "source": [
    "# H1\n",
    "## H2\n",
    "### H3\n",
    "#### H4\n",
    "##### H5\n",
    "###### H6\n",
    "\n",
    "Alternatively, for H1 and H2, an underline-ish style:\n",
    "\n",
    "H1\n",
    "======\n",
    "\n",
    "H2\n",
    "------"
   ]
  },
  {
   "cell_type": "markdown",
   "metadata": {},
   "source": [
    "# H1\n",
    "## H2\n",
    "### H3\n",
    "#### H4\n",
    "##### H5\n",
    "###### H6\n",
    "\n",
    "Alternatively, for H1 and H2, an underline-ish style:\n",
    "\n",
    "H1 \n",
    "====== \n",
    "\n",
    "H2\n",
    "------"
   ]
  },
  {
   "cell_type": "markdown",
   "metadata": {},
   "source": [
    "<h2 id=\"Emphasis\">Emphasis</h2>"
   ]
  },
  {
   "cell_type": "code",
   "execution_count": null,
   "metadata": {},
   "outputs": [],
   "source": [
    "1. Italics: *asterisks* or _underscores_.\n",
    "\n",
    "2. Bold: **asterisks** or __underscores__.\n",
    "\n",
    "3. Combined italics and bold:  **asterisks and _underscores_**.\n",
    "\n",
    "4. Strikethrough:  ~~tildes.~~"
   ]
  },
  {
   "cell_type": "markdown",
   "metadata": {},
   "source": [
    "1. Italics: *asterisks* or _underscores_.\n",
    "\n",
    "2. Bold: **asterisks** or __underscores__.\n",
    "\n",
    "3. Combined italics and bold:  **asterisks and _underscores_**.\n",
    "\n",
    "4. Strikethrough:  ~~tildes.~~"
   ]
  },
  {
   "cell_type": "markdown",
   "metadata": {},
   "source": [
    "<h2 id=\"Lists\">Lists</h2>"
   ]
  },
  {
   "cell_type": "code",
   "execution_count": null,
   "metadata": {},
   "outputs": [],
   "source": [
    "#### Ordered List\n",
    "1. Apple\n",
    "2. Strawberry\n",
    "3. Peach  \n",
    "\n",
    "#### Unordered sub-list. \n",
    "1. Apple  \n",
    "1.1 1kg  \n",
    "1.2 green  \n",
    "2. Strawberry  \n",
    "3. Peach  \n",
    "\n",
    "#### Unordered List\n",
    "* Apple\n",
    "- Strawberry\n",
    "+ Peach"
   ]
  },
  {
   "cell_type": "markdown",
   "metadata": {},
   "source": [
    "#### Ordered List\n",
    "1. Apple\n",
    "2. Strawberry\n",
    "3. Peach  \n",
    "\n",
    "#### Unordered sub-list. \n",
    "1. Apple  \n",
    "1.1 1kg  \n",
    "1.2 green  \n",
    "2. Strawberry  \n",
    "3. Peach  \n",
    "\n",
    "#### Unordered List\n",
    "* Apple\n",
    "- Strawberry\n",
    "+ Peach"
   ]
  },
  {
   "cell_type": "markdown",
   "metadata": {},
   "source": [
    "<h2 id=\"Links\">Links</h2>\n",
    "\n",
    "There are two ways to create links in markdown"
   ]
  },
  {
   "cell_type": "code",
   "execution_count": null,
   "metadata": {},
   "outputs": [],
   "source": [
    "[Inline-style link](https://www.tum.de/en/)\n",
    "\n",
    "[Inline-style link with title](https://www.tum.de/en/ \"TUM's Homepage\")\n",
    "\n",
    "[Reference-style link][TUM School of Management]\n",
    "\n",
    "[Reference-style link number][1]\n",
    "\n",
    "https://www.tum.de/en/\n",
    "\n",
    "\n",
    "[TUM School of Management]: https://www.wi.tum.de/tum-campus-heilbronn/welcome-tum-campus-heilbronn/\n",
    "[1]: https://www.tum.de/en/\n",
    "[link text itself]: http://www.reddit.com"
   ]
  },
  {
   "cell_type": "markdown",
   "metadata": {},
   "source": [
    "[Inline-style link](https://www.tum.de/en/)\n",
    "\n",
    "[Inline-style link with title](https://www.tum.de/en/ \"TUM's Homepage\")\n",
    "\n",
    "[Reference-style link][TUM School of Management]\n",
    "\n",
    "[Reference-style link number][1]\n",
    "\n",
    "https://www.tum.de/en/\n",
    "\n",
    "\n",
    "[TUM School of Management]: https://www.wi.tum.de/tum-campus-heilbronn/welcome-tum-campus-heilbronn/\n",
    "[1]: https://www.tum.de/en/\n",
    "[link text itself]: http://www.reddit.com"
   ]
  },
  {
   "cell_type": "markdown",
   "metadata": {},
   "source": [
    "<h2 id=\"Images\">Images</h2>"
   ]
  },
  {
   "cell_type": "code",
   "execution_count": null,
   "metadata": {},
   "outputs": [],
   "source": [
    "Inline-style: \n",
    "![alt text](logo.png)\n",
    "\n",
    "Reference-style: \n",
    "![alt text][logo]\n",
    "\n",
    "[logo]: logo.png"
   ]
  },
  {
   "cell_type": "markdown",
   "metadata": {},
   "source": [
    "Inline-style: \n",
    "![alt text](logo.png)\n",
    "\n",
    "Reference-style: \n",
    "![alt text][logo]\n",
    "\n",
    "[logo]: logo.png"
   ]
  },
  {
   "cell_type": "markdown",
   "metadata": {},
   "source": [
    "<h2 id=\"Code\">Code and Syntax Highlighting</h2>"
   ]
  },
  {
   "cell_type": "markdown",
   "metadata": {},
   "source": [
    "Square area formulation: `A=a**2`"
   ]
  },
  {
   "cell_type": "markdown",
   "metadata": {},
   "source": [
    "Square area formulation: `A=a**2`"
   ]
  },
  {
   "cell_type": "markdown",
   "metadata": {},
   "source": [
    "<h2 id=\"Table\">Table</h2>"
   ]
  },
  {
   "cell_type": "code",
   "execution_count": null,
   "metadata": {},
   "outputs": [],
   "source": [
    "| dssc          |  month_id     | country |\n",
    "| ------------- |:-------------:| -------:|\n",
    "|982616         | 260           |   US    |\n",
    "|946443         | 340           |   JP    |\n",
    "|982616         | 349           |   BR    |"
   ]
  },
  {
   "cell_type": "markdown",
   "metadata": {},
   "source": [
    "| dssc          |  month_id     | country |\n",
    "| ------------- |:-------------:| -------:|\n",
    "|982616         | 260           |   US    |\n",
    "|946443         | 340           |   JP    |\n",
    "|982616         | 349           |   BR    |"
   ]
  },
  {
   "cell_type": "markdown",
   "metadata": {},
   "source": [
    " \n",
    "|     Date          |  From         |  To     |  \n",
    "| ------------- |:-------------:| -------:|  \n",
    "|Tuesday         | 14:00           |  20:00    |  \n",
    "|Wednesday         | 14:00           |  20:00    |  \n",
    "|Thursday        | 14:00           |   20:00    | "
   ]
  },
  {
   "cell_type": "markdown",
   "metadata": {},
   "source": [
    "There must be at least 3 dashes separating each header cell. The outer pipes (|) are optional."
   ]
  },
  {
   "cell_type": "code",
   "execution_count": null,
   "metadata": {},
   "outputs": [],
   "source": [
    "dssc | month_id | country\n",
    "--- | --- | ---\n",
    "982616| 260 | US\n",
    "946443   | 340 | JP"
   ]
  },
  {
   "cell_type": "markdown",
   "metadata": {},
   "source": [
    "dssc | month_id | country\n",
    "---| --- | ---\n",
    "982616| 260 | US\n",
    "946443   | 340 | JP"
   ]
  },
  {
   "cell_type": "markdown",
   "metadata": {},
   "source": [
    "<h2 id=\"Rule\">Horizontal Rule</h2>"
   ]
  },
  {
   "cell_type": "code",
   "execution_count": null,
   "metadata": {},
   "outputs": [],
   "source": [
    "\n",
    "---\n",
    "\n",
    "Hyphens\n",
    "\n",
    "***\n",
    "\n",
    "Asterisks\n",
    "\n",
    "___\n",
    "\n",
    "Underscores"
   ]
  },
  {
   "cell_type": "markdown",
   "metadata": {},
   "source": [
    "\n",
    "---\n",
    "\n",
    "Hyphens\n",
    "\n",
    "***\n",
    "\n",
    "Asterisks\n",
    "\n",
    "___\n",
    "\n",
    "Underscores"
   ]
  }
 ],
 "metadata": {
  "kernelspec": {
   "display_name": "Python 3",
   "language": "python",
   "name": "python3"
  },
  "language_info": {
   "codemirror_mode": {
    "name": "ipython",
    "version": 3
   },
   "file_extension": ".py",
   "mimetype": "text/x-python",
   "name": "python",
   "nbconvert_exporter": "python",
   "pygments_lexer": "ipython3",
   "version": "3.8.8"
  }
 },
 "nbformat": 4,
 "nbformat_minor": 4
}
